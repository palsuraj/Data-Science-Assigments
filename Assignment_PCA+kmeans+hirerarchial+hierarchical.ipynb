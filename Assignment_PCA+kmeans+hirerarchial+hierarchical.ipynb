{
  "nbformat": 4,
  "nbformat_minor": 0,
  "metadata": {
    "colab": {
      "name": "Assignment_PCA.ipynb",
      "provenance": [],
      "include_colab_link": true
    },
    "kernelspec": {
      "name": "python3",
      "display_name": "Python 3"
    },
    "language_info": {
      "name": "python"
    }
  },
  "cells": [
    {
      "cell_type": "markdown",
      "metadata": {
        "id": "view-in-github",
        "colab_type": "text"
      },
      "source": [
        "<a href=\"https://colab.research.google.com/github/YG-0/Datascience_assisgnments/blob/main/Assignment_PCA%2Bkmeans%2Bhirerarchial%2Bhierarchical.ipynb\" target=\"_parent\"><img src=\"https://colab.research.google.com/assets/colab-badge.svg\" alt=\"Open In Colab\"/></a>"
      ]
    },
    {
      "cell_type": "code",
      "metadata": {
        "id": "77O6_iRMfzH-"
      },
      "source": [
        "import pandas as pd \n",
        "import numpy as np\n",
        "from sklearn.decomposition import PCA\n",
        "import matplotlib.pyplot as plt\n",
        "from sklearn.preprocessing import scale "
      ],
      "execution_count": 39,
      "outputs": []
    },
    {
      "cell_type": "code",
      "metadata": {
        "id": "6tvCcYtH8WpB"
      },
      "source": [
        "df = pd.read_csv(\"wine.csv\")"
      ],
      "execution_count": 40,
      "outputs": []
    },
    {
      "cell_type": "code",
      "metadata": {
        "id": "4mUYydxW8Wqh",
        "colab": {
          "base_uri": "https://localhost:8080/",
          "height": 320
        },
        "outputId": "1b09b01a-b413-4d15-d45b-8843926868e4"
      },
      "source": [
        "df.describe()"
      ],
      "execution_count": 41,
      "outputs": [
        {
          "output_type": "execute_result",
          "data": {
            "text/html": [
              "<div>\n",
              "<style scoped>\n",
              "    .dataframe tbody tr th:only-of-type {\n",
              "        vertical-align: middle;\n",
              "    }\n",
              "\n",
              "    .dataframe tbody tr th {\n",
              "        vertical-align: top;\n",
              "    }\n",
              "\n",
              "    .dataframe thead th {\n",
              "        text-align: right;\n",
              "    }\n",
              "</style>\n",
              "<table border=\"1\" class=\"dataframe\">\n",
              "  <thead>\n",
              "    <tr style=\"text-align: right;\">\n",
              "      <th></th>\n",
              "      <th>Type</th>\n",
              "      <th>Alcohol</th>\n",
              "      <th>Malic</th>\n",
              "      <th>Ash</th>\n",
              "      <th>Alcalinity</th>\n",
              "      <th>Magnesium</th>\n",
              "      <th>Phenols</th>\n",
              "      <th>Flavanoids</th>\n",
              "      <th>Nonflavanoids</th>\n",
              "      <th>Proanthocyanins</th>\n",
              "      <th>Color</th>\n",
              "      <th>Hue</th>\n",
              "      <th>Dilution</th>\n",
              "      <th>Proline</th>\n",
              "    </tr>\n",
              "  </thead>\n",
              "  <tbody>\n",
              "    <tr>\n",
              "      <th>count</th>\n",
              "      <td>178.000000</td>\n",
              "      <td>178.000000</td>\n",
              "      <td>178.000000</td>\n",
              "      <td>178.000000</td>\n",
              "      <td>178.000000</td>\n",
              "      <td>178.000000</td>\n",
              "      <td>178.000000</td>\n",
              "      <td>178.000000</td>\n",
              "      <td>178.000000</td>\n",
              "      <td>178.000000</td>\n",
              "      <td>178.000000</td>\n",
              "      <td>178.000000</td>\n",
              "      <td>178.000000</td>\n",
              "      <td>178.000000</td>\n",
              "    </tr>\n",
              "    <tr>\n",
              "      <th>mean</th>\n",
              "      <td>1.938202</td>\n",
              "      <td>13.000618</td>\n",
              "      <td>2.336348</td>\n",
              "      <td>2.366517</td>\n",
              "      <td>19.494944</td>\n",
              "      <td>99.741573</td>\n",
              "      <td>2.295112</td>\n",
              "      <td>2.029270</td>\n",
              "      <td>0.361854</td>\n",
              "      <td>1.590899</td>\n",
              "      <td>5.058090</td>\n",
              "      <td>0.957449</td>\n",
              "      <td>2.611685</td>\n",
              "      <td>746.893258</td>\n",
              "    </tr>\n",
              "    <tr>\n",
              "      <th>std</th>\n",
              "      <td>0.775035</td>\n",
              "      <td>0.811827</td>\n",
              "      <td>1.117146</td>\n",
              "      <td>0.274344</td>\n",
              "      <td>3.339564</td>\n",
              "      <td>14.282484</td>\n",
              "      <td>0.625851</td>\n",
              "      <td>0.998859</td>\n",
              "      <td>0.124453</td>\n",
              "      <td>0.572359</td>\n",
              "      <td>2.318286</td>\n",
              "      <td>0.228572</td>\n",
              "      <td>0.709990</td>\n",
              "      <td>314.907474</td>\n",
              "    </tr>\n",
              "    <tr>\n",
              "      <th>min</th>\n",
              "      <td>1.000000</td>\n",
              "      <td>11.030000</td>\n",
              "      <td>0.740000</td>\n",
              "      <td>1.360000</td>\n",
              "      <td>10.600000</td>\n",
              "      <td>70.000000</td>\n",
              "      <td>0.980000</td>\n",
              "      <td>0.340000</td>\n",
              "      <td>0.130000</td>\n",
              "      <td>0.410000</td>\n",
              "      <td>1.280000</td>\n",
              "      <td>0.480000</td>\n",
              "      <td>1.270000</td>\n",
              "      <td>278.000000</td>\n",
              "    </tr>\n",
              "    <tr>\n",
              "      <th>25%</th>\n",
              "      <td>1.000000</td>\n",
              "      <td>12.362500</td>\n",
              "      <td>1.602500</td>\n",
              "      <td>2.210000</td>\n",
              "      <td>17.200000</td>\n",
              "      <td>88.000000</td>\n",
              "      <td>1.742500</td>\n",
              "      <td>1.205000</td>\n",
              "      <td>0.270000</td>\n",
              "      <td>1.250000</td>\n",
              "      <td>3.220000</td>\n",
              "      <td>0.782500</td>\n",
              "      <td>1.937500</td>\n",
              "      <td>500.500000</td>\n",
              "    </tr>\n",
              "    <tr>\n",
              "      <th>50%</th>\n",
              "      <td>2.000000</td>\n",
              "      <td>13.050000</td>\n",
              "      <td>1.865000</td>\n",
              "      <td>2.360000</td>\n",
              "      <td>19.500000</td>\n",
              "      <td>98.000000</td>\n",
              "      <td>2.355000</td>\n",
              "      <td>2.135000</td>\n",
              "      <td>0.340000</td>\n",
              "      <td>1.555000</td>\n",
              "      <td>4.690000</td>\n",
              "      <td>0.965000</td>\n",
              "      <td>2.780000</td>\n",
              "      <td>673.500000</td>\n",
              "    </tr>\n",
              "    <tr>\n",
              "      <th>75%</th>\n",
              "      <td>3.000000</td>\n",
              "      <td>13.677500</td>\n",
              "      <td>3.082500</td>\n",
              "      <td>2.557500</td>\n",
              "      <td>21.500000</td>\n",
              "      <td>107.000000</td>\n",
              "      <td>2.800000</td>\n",
              "      <td>2.875000</td>\n",
              "      <td>0.437500</td>\n",
              "      <td>1.950000</td>\n",
              "      <td>6.200000</td>\n",
              "      <td>1.120000</td>\n",
              "      <td>3.170000</td>\n",
              "      <td>985.000000</td>\n",
              "    </tr>\n",
              "    <tr>\n",
              "      <th>max</th>\n",
              "      <td>3.000000</td>\n",
              "      <td>14.830000</td>\n",
              "      <td>5.800000</td>\n",
              "      <td>3.230000</td>\n",
              "      <td>30.000000</td>\n",
              "      <td>162.000000</td>\n",
              "      <td>3.880000</td>\n",
              "      <td>5.080000</td>\n",
              "      <td>0.660000</td>\n",
              "      <td>3.580000</td>\n",
              "      <td>13.000000</td>\n",
              "      <td>1.710000</td>\n",
              "      <td>4.000000</td>\n",
              "      <td>1680.000000</td>\n",
              "    </tr>\n",
              "  </tbody>\n",
              "</table>\n",
              "</div>"
            ],
            "text/plain": [
              "             Type     Alcohol       Malic  ...         Hue    Dilution      Proline\n",
              "count  178.000000  178.000000  178.000000  ...  178.000000  178.000000   178.000000\n",
              "mean     1.938202   13.000618    2.336348  ...    0.957449    2.611685   746.893258\n",
              "std      0.775035    0.811827    1.117146  ...    0.228572    0.709990   314.907474\n",
              "min      1.000000   11.030000    0.740000  ...    0.480000    1.270000   278.000000\n",
              "25%      1.000000   12.362500    1.602500  ...    0.782500    1.937500   500.500000\n",
              "50%      2.000000   13.050000    1.865000  ...    0.965000    2.780000   673.500000\n",
              "75%      3.000000   13.677500    3.082500  ...    1.120000    3.170000   985.000000\n",
              "max      3.000000   14.830000    5.800000  ...    1.710000    4.000000  1680.000000\n",
              "\n",
              "[8 rows x 14 columns]"
            ]
          },
          "metadata": {},
          "execution_count": 41
        }
      ]
    },
    {
      "cell_type": "code",
      "metadata": {
        "id": "1RS4PRkp8WvM",
        "colab": {
          "base_uri": "https://localhost:8080/",
          "height": 226
        },
        "outputId": "d97f778c-10db-4b08-c353-daa110d946e6"
      },
      "source": [
        "df.head()"
      ],
      "execution_count": 42,
      "outputs": [
        {
          "output_type": "execute_result",
          "data": {
            "text/html": [
              "<div>\n",
              "<style scoped>\n",
              "    .dataframe tbody tr th:only-of-type {\n",
              "        vertical-align: middle;\n",
              "    }\n",
              "\n",
              "    .dataframe tbody tr th {\n",
              "        vertical-align: top;\n",
              "    }\n",
              "\n",
              "    .dataframe thead th {\n",
              "        text-align: right;\n",
              "    }\n",
              "</style>\n",
              "<table border=\"1\" class=\"dataframe\">\n",
              "  <thead>\n",
              "    <tr style=\"text-align: right;\">\n",
              "      <th></th>\n",
              "      <th>Type</th>\n",
              "      <th>Alcohol</th>\n",
              "      <th>Malic</th>\n",
              "      <th>Ash</th>\n",
              "      <th>Alcalinity</th>\n",
              "      <th>Magnesium</th>\n",
              "      <th>Phenols</th>\n",
              "      <th>Flavanoids</th>\n",
              "      <th>Nonflavanoids</th>\n",
              "      <th>Proanthocyanins</th>\n",
              "      <th>Color</th>\n",
              "      <th>Hue</th>\n",
              "      <th>Dilution</th>\n",
              "      <th>Proline</th>\n",
              "    </tr>\n",
              "  </thead>\n",
              "  <tbody>\n",
              "    <tr>\n",
              "      <th>0</th>\n",
              "      <td>1</td>\n",
              "      <td>14.23</td>\n",
              "      <td>1.71</td>\n",
              "      <td>2.43</td>\n",
              "      <td>15.6</td>\n",
              "      <td>127</td>\n",
              "      <td>2.80</td>\n",
              "      <td>3.06</td>\n",
              "      <td>0.28</td>\n",
              "      <td>2.29</td>\n",
              "      <td>5.64</td>\n",
              "      <td>1.04</td>\n",
              "      <td>3.92</td>\n",
              "      <td>1065</td>\n",
              "    </tr>\n",
              "    <tr>\n",
              "      <th>1</th>\n",
              "      <td>1</td>\n",
              "      <td>13.20</td>\n",
              "      <td>1.78</td>\n",
              "      <td>2.14</td>\n",
              "      <td>11.2</td>\n",
              "      <td>100</td>\n",
              "      <td>2.65</td>\n",
              "      <td>2.76</td>\n",
              "      <td>0.26</td>\n",
              "      <td>1.28</td>\n",
              "      <td>4.38</td>\n",
              "      <td>1.05</td>\n",
              "      <td>3.40</td>\n",
              "      <td>1050</td>\n",
              "    </tr>\n",
              "    <tr>\n",
              "      <th>2</th>\n",
              "      <td>1</td>\n",
              "      <td>13.16</td>\n",
              "      <td>2.36</td>\n",
              "      <td>2.67</td>\n",
              "      <td>18.6</td>\n",
              "      <td>101</td>\n",
              "      <td>2.80</td>\n",
              "      <td>3.24</td>\n",
              "      <td>0.30</td>\n",
              "      <td>2.81</td>\n",
              "      <td>5.68</td>\n",
              "      <td>1.03</td>\n",
              "      <td>3.17</td>\n",
              "      <td>1185</td>\n",
              "    </tr>\n",
              "    <tr>\n",
              "      <th>3</th>\n",
              "      <td>1</td>\n",
              "      <td>14.37</td>\n",
              "      <td>1.95</td>\n",
              "      <td>2.50</td>\n",
              "      <td>16.8</td>\n",
              "      <td>113</td>\n",
              "      <td>3.85</td>\n",
              "      <td>3.49</td>\n",
              "      <td>0.24</td>\n",
              "      <td>2.18</td>\n",
              "      <td>7.80</td>\n",
              "      <td>0.86</td>\n",
              "      <td>3.45</td>\n",
              "      <td>1480</td>\n",
              "    </tr>\n",
              "    <tr>\n",
              "      <th>4</th>\n",
              "      <td>1</td>\n",
              "      <td>13.24</td>\n",
              "      <td>2.59</td>\n",
              "      <td>2.87</td>\n",
              "      <td>21.0</td>\n",
              "      <td>118</td>\n",
              "      <td>2.80</td>\n",
              "      <td>2.69</td>\n",
              "      <td>0.39</td>\n",
              "      <td>1.82</td>\n",
              "      <td>4.32</td>\n",
              "      <td>1.04</td>\n",
              "      <td>2.93</td>\n",
              "      <td>735</td>\n",
              "    </tr>\n",
              "  </tbody>\n",
              "</table>\n",
              "</div>"
            ],
            "text/plain": [
              "   Type  Alcohol  Malic   Ash  ...  Color   Hue  Dilution  Proline\n",
              "0     1    14.23   1.71  2.43  ...   5.64  1.04      3.92     1065\n",
              "1     1    13.20   1.78  2.14  ...   4.38  1.05      3.40     1050\n",
              "2     1    13.16   2.36  2.67  ...   5.68  1.03      3.17     1185\n",
              "3     1    14.37   1.95  2.50  ...   7.80  0.86      3.45     1480\n",
              "4     1    13.24   2.59  2.87  ...   4.32  1.04      2.93      735\n",
              "\n",
              "[5 rows x 14 columns]"
            ]
          },
          "metadata": {},
          "execution_count": 42
        }
      ]
    },
    {
      "cell_type": "code",
      "metadata": {
        "colab": {
          "base_uri": "https://localhost:8080/"
        },
        "id": "wmusN0pdAIS9",
        "outputId": "59b7226b-9221-4ad5-bc09-2f331d7222a4"
      },
      "source": [
        "df.isnull().sum()"
      ],
      "execution_count": 43,
      "outputs": [
        {
          "output_type": "execute_result",
          "data": {
            "text/plain": [
              "Type               0\n",
              "Alcohol            0\n",
              "Malic              0\n",
              "Ash                0\n",
              "Alcalinity         0\n",
              "Magnesium          0\n",
              "Phenols            0\n",
              "Flavanoids         0\n",
              "Nonflavanoids      0\n",
              "Proanthocyanins    0\n",
              "Color              0\n",
              "Hue                0\n",
              "Dilution           0\n",
              "Proline            0\n",
              "dtype: int64"
            ]
          },
          "metadata": {},
          "execution_count": 43
        }
      ]
    },
    {
      "cell_type": "code",
      "metadata": {
        "colab": {
          "base_uri": "https://localhost:8080/"
        },
        "id": "90DNDqV7AIRM",
        "outputId": "c7a7cb9f-9c40-40ad-bafe-36f7fcd6598b"
      },
      "source": [
        "df.dtypes"
      ],
      "execution_count": 44,
      "outputs": [
        {
          "output_type": "execute_result",
          "data": {
            "text/plain": [
              "Type                 int64\n",
              "Alcohol            float64\n",
              "Malic              float64\n",
              "Ash                float64\n",
              "Alcalinity         float64\n",
              "Magnesium            int64\n",
              "Phenols            float64\n",
              "Flavanoids         float64\n",
              "Nonflavanoids      float64\n",
              "Proanthocyanins    float64\n",
              "Color              float64\n",
              "Hue                float64\n",
              "Dilution           float64\n",
              "Proline              int64\n",
              "dtype: object"
            ]
          },
          "metadata": {},
          "execution_count": 44
        }
      ]
    },
    {
      "cell_type": "code",
      "metadata": {
        "colab": {
          "base_uri": "https://localhost:8080/"
        },
        "id": "KzCFzuuVAIM9",
        "outputId": "faef420d-5ba6-4f58-8102-ba3031acb005"
      },
      "source": [
        "df.nunique()"
      ],
      "execution_count": 45,
      "outputs": [
        {
          "output_type": "execute_result",
          "data": {
            "text/plain": [
              "Type                 3\n",
              "Alcohol            126\n",
              "Malic              133\n",
              "Ash                 79\n",
              "Alcalinity          63\n",
              "Magnesium           53\n",
              "Phenols             97\n",
              "Flavanoids         132\n",
              "Nonflavanoids       39\n",
              "Proanthocyanins    101\n",
              "Color              132\n",
              "Hue                 78\n",
              "Dilution           122\n",
              "Proline            121\n",
              "dtype: int64"
            ]
          },
          "metadata": {},
          "execution_count": 45
        }
      ]
    },
    {
      "cell_type": "code",
      "metadata": {
        "colab": {
          "base_uri": "https://localhost:8080/"
        },
        "id": "_-o9yW5GAILa",
        "outputId": "7cc52bb0-d44b-473e-b136-1fbc85a3d1aa"
      },
      "source": [
        "df.corr"
      ],
      "execution_count": 46,
      "outputs": [
        {
          "output_type": "execute_result",
          "data": {
            "text/plain": [
              "<bound method DataFrame.corr of      Type  Alcohol  Malic   Ash  ...  Color   Hue  Dilution  Proline\n",
              "0       1    14.23   1.71  2.43  ...   5.64  1.04      3.92     1065\n",
              "1       1    13.20   1.78  2.14  ...   4.38  1.05      3.40     1050\n",
              "2       1    13.16   2.36  2.67  ...   5.68  1.03      3.17     1185\n",
              "3       1    14.37   1.95  2.50  ...   7.80  0.86      3.45     1480\n",
              "4       1    13.24   2.59  2.87  ...   4.32  1.04      2.93      735\n",
              "..    ...      ...    ...   ...  ...    ...   ...       ...      ...\n",
              "173     3    13.71   5.65  2.45  ...   7.70  0.64      1.74      740\n",
              "174     3    13.40   3.91  2.48  ...   7.30  0.70      1.56      750\n",
              "175     3    13.27   4.28  2.26  ...  10.20  0.59      1.56      835\n",
              "176     3    13.17   2.59  2.37  ...   9.30  0.60      1.62      840\n",
              "177     3    14.13   4.10  2.74  ...   9.20  0.61      1.60      560\n",
              "\n",
              "[178 rows x 14 columns]>"
            ]
          },
          "metadata": {},
          "execution_count": 46
        }
      ]
    },
    {
      "cell_type": "code",
      "metadata": {
        "colab": {
          "base_uri": "https://localhost:8080/",
          "height": 261
        },
        "id": "ZLqm3j4rAIHc",
        "outputId": "5366e3ec-9f56-445f-d805-8f5120c3fb8d"
      },
      "source": [
        "df.data = df.iloc[:,1:]\n",
        "df.data.head()"
      ],
      "execution_count": 47,
      "outputs": [
        {
          "output_type": "stream",
          "name": "stderr",
          "text": [
            "/usr/local/lib/python3.7/dist-packages/ipykernel_launcher.py:1: UserWarning: Pandas doesn't allow columns to be created via a new attribute name - see https://pandas.pydata.org/pandas-docs/stable/indexing.html#attribute-access\n",
            "  \"\"\"Entry point for launching an IPython kernel.\n"
          ]
        },
        {
          "output_type": "execute_result",
          "data": {
            "text/html": [
              "<div>\n",
              "<style scoped>\n",
              "    .dataframe tbody tr th:only-of-type {\n",
              "        vertical-align: middle;\n",
              "    }\n",
              "\n",
              "    .dataframe tbody tr th {\n",
              "        vertical-align: top;\n",
              "    }\n",
              "\n",
              "    .dataframe thead th {\n",
              "        text-align: right;\n",
              "    }\n",
              "</style>\n",
              "<table border=\"1\" class=\"dataframe\">\n",
              "  <thead>\n",
              "    <tr style=\"text-align: right;\">\n",
              "      <th></th>\n",
              "      <th>Alcohol</th>\n",
              "      <th>Malic</th>\n",
              "      <th>Ash</th>\n",
              "      <th>Alcalinity</th>\n",
              "      <th>Magnesium</th>\n",
              "      <th>Phenols</th>\n",
              "      <th>Flavanoids</th>\n",
              "      <th>Nonflavanoids</th>\n",
              "      <th>Proanthocyanins</th>\n",
              "      <th>Color</th>\n",
              "      <th>Hue</th>\n",
              "      <th>Dilution</th>\n",
              "      <th>Proline</th>\n",
              "    </tr>\n",
              "  </thead>\n",
              "  <tbody>\n",
              "    <tr>\n",
              "      <th>0</th>\n",
              "      <td>14.23</td>\n",
              "      <td>1.71</td>\n",
              "      <td>2.43</td>\n",
              "      <td>15.6</td>\n",
              "      <td>127</td>\n",
              "      <td>2.80</td>\n",
              "      <td>3.06</td>\n",
              "      <td>0.28</td>\n",
              "      <td>2.29</td>\n",
              "      <td>5.64</td>\n",
              "      <td>1.04</td>\n",
              "      <td>3.92</td>\n",
              "      <td>1065</td>\n",
              "    </tr>\n",
              "    <tr>\n",
              "      <th>1</th>\n",
              "      <td>13.20</td>\n",
              "      <td>1.78</td>\n",
              "      <td>2.14</td>\n",
              "      <td>11.2</td>\n",
              "      <td>100</td>\n",
              "      <td>2.65</td>\n",
              "      <td>2.76</td>\n",
              "      <td>0.26</td>\n",
              "      <td>1.28</td>\n",
              "      <td>4.38</td>\n",
              "      <td>1.05</td>\n",
              "      <td>3.40</td>\n",
              "      <td>1050</td>\n",
              "    </tr>\n",
              "    <tr>\n",
              "      <th>2</th>\n",
              "      <td>13.16</td>\n",
              "      <td>2.36</td>\n",
              "      <td>2.67</td>\n",
              "      <td>18.6</td>\n",
              "      <td>101</td>\n",
              "      <td>2.80</td>\n",
              "      <td>3.24</td>\n",
              "      <td>0.30</td>\n",
              "      <td>2.81</td>\n",
              "      <td>5.68</td>\n",
              "      <td>1.03</td>\n",
              "      <td>3.17</td>\n",
              "      <td>1185</td>\n",
              "    </tr>\n",
              "    <tr>\n",
              "      <th>3</th>\n",
              "      <td>14.37</td>\n",
              "      <td>1.95</td>\n",
              "      <td>2.50</td>\n",
              "      <td>16.8</td>\n",
              "      <td>113</td>\n",
              "      <td>3.85</td>\n",
              "      <td>3.49</td>\n",
              "      <td>0.24</td>\n",
              "      <td>2.18</td>\n",
              "      <td>7.80</td>\n",
              "      <td>0.86</td>\n",
              "      <td>3.45</td>\n",
              "      <td>1480</td>\n",
              "    </tr>\n",
              "    <tr>\n",
              "      <th>4</th>\n",
              "      <td>13.24</td>\n",
              "      <td>2.59</td>\n",
              "      <td>2.87</td>\n",
              "      <td>21.0</td>\n",
              "      <td>118</td>\n",
              "      <td>2.80</td>\n",
              "      <td>2.69</td>\n",
              "      <td>0.39</td>\n",
              "      <td>1.82</td>\n",
              "      <td>4.32</td>\n",
              "      <td>1.04</td>\n",
              "      <td>2.93</td>\n",
              "      <td>735</td>\n",
              "    </tr>\n",
              "  </tbody>\n",
              "</table>\n",
              "</div>"
            ],
            "text/plain": [
              "   Alcohol  Malic   Ash  Alcalinity  ...  Color   Hue  Dilution  Proline\n",
              "0    14.23   1.71  2.43        15.6  ...   5.64  1.04      3.92     1065\n",
              "1    13.20   1.78  2.14        11.2  ...   4.38  1.05      3.40     1050\n",
              "2    13.16   2.36  2.67        18.6  ...   5.68  1.03      3.17     1185\n",
              "3    14.37   1.95  2.50        16.8  ...   7.80  0.86      3.45     1480\n",
              "4    13.24   2.59  2.87        21.0  ...   4.32  1.04      2.93      735\n",
              "\n",
              "[5 rows x 13 columns]"
            ]
          },
          "metadata": {},
          "execution_count": 47
        }
      ]
    },
    {
      "cell_type": "code",
      "metadata": {
        "colab": {
          "base_uri": "https://localhost:8080/"
        },
        "id": "p4m0x1CkAIF2",
        "outputId": "0cc5ea9d-f72c-4196-b3e6-4ca1f3680547"
      },
      "source": [
        "DF = df.data.values\n",
        "DF"
      ],
      "execution_count": 48,
      "outputs": [
        {
          "output_type": "execute_result",
          "data": {
            "text/plain": [
              "array([[1.423e+01, 1.710e+00, 2.430e+00, ..., 1.040e+00, 3.920e+00,\n",
              "        1.065e+03],\n",
              "       [1.320e+01, 1.780e+00, 2.140e+00, ..., 1.050e+00, 3.400e+00,\n",
              "        1.050e+03],\n",
              "       [1.316e+01, 2.360e+00, 2.670e+00, ..., 1.030e+00, 3.170e+00,\n",
              "        1.185e+03],\n",
              "       ...,\n",
              "       [1.327e+01, 4.280e+00, 2.260e+00, ..., 5.900e-01, 1.560e+00,\n",
              "        8.350e+02],\n",
              "       [1.317e+01, 2.590e+00, 2.370e+00, ..., 6.000e-01, 1.620e+00,\n",
              "        8.400e+02],\n",
              "       [1.413e+01, 4.100e+00, 2.740e+00, ..., 6.100e-01, 1.600e+00,\n",
              "        5.600e+02]])"
            ]
          },
          "metadata": {},
          "execution_count": 48
        }
      ]
    },
    {
      "cell_type": "code",
      "metadata": {
        "id": "JZtpRKP0AIB2"
      },
      "source": [
        "df_normal = scale(DF)"
      ],
      "execution_count": 49,
      "outputs": []
    },
    {
      "cell_type": "code",
      "metadata": {
        "colab": {
          "base_uri": "https://localhost:8080/"
        },
        "id": "v-E8AOMkAIAH",
        "outputId": "43f49a35-1e92-4d9d-b609-1e88da15c177"
      },
      "source": [
        "df_normal"
      ],
      "execution_count": 50,
      "outputs": [
        {
          "output_type": "execute_result",
          "data": {
            "text/plain": [
              "array([[ 1.51861254, -0.5622498 ,  0.23205254, ...,  0.36217728,\n",
              "         1.84791957,  1.01300893],\n",
              "       [ 0.24628963, -0.49941338, -0.82799632, ...,  0.40605066,\n",
              "         1.1134493 ,  0.96524152],\n",
              "       [ 0.19687903,  0.02123125,  1.10933436, ...,  0.31830389,\n",
              "         0.78858745,  1.39514818],\n",
              "       ...,\n",
              "       [ 0.33275817,  1.74474449, -0.38935541, ..., -1.61212515,\n",
              "        -1.48544548,  0.28057537],\n",
              "       [ 0.20923168,  0.22769377,  0.01273209, ..., -1.56825176,\n",
              "        -1.40069891,  0.29649784],\n",
              "       [ 1.39508604,  1.58316512,  1.36520822, ..., -1.52437837,\n",
              "        -1.42894777, -0.59516041]])"
            ]
          },
          "metadata": {},
          "execution_count": 50
        }
      ]
    },
    {
      "cell_type": "code",
      "metadata": {
        "id": "t1CjC9Y2AH70"
      },
      "source": [
        "pca = PCA()\n",
        "pca_values = pca.fit_transform(df_normal)"
      ],
      "execution_count": 51,
      "outputs": []
    },
    {
      "cell_type": "code",
      "metadata": {
        "colab": {
          "base_uri": "https://localhost:8080/"
        },
        "id": "NbWT7KXVAH6W",
        "outputId": "e7dfdd92-9910-4ba9-8cd3-08affb7b2f1d"
      },
      "source": [
        "pca_values"
      ],
      "execution_count": 52,
      "outputs": [
        {
          "output_type": "execute_result",
          "data": {
            "text/plain": [
              "array([[ 3.31675081e+00, -1.44346263e+00, -1.65739045e-01, ...,\n",
              "        -4.51563395e-01,  5.40810414e-01, -6.62386309e-02],\n",
              "       [ 2.20946492e+00,  3.33392887e-01, -2.02645737e+00, ...,\n",
              "        -1.42657306e-01,  3.88237741e-01,  3.63650247e-03],\n",
              "       [ 2.51674015e+00, -1.03115130e+00,  9.82818670e-01, ...,\n",
              "        -2.86672847e-01,  5.83573183e-04,  2.17165104e-02],\n",
              "       ...,\n",
              "       [-2.67783946e+00, -2.76089913e+00, -9.40941877e-01, ...,\n",
              "         5.12492025e-01,  6.98766451e-01,  7.20776948e-02],\n",
              "       [-2.38701709e+00, -2.29734668e+00, -5.50696197e-01, ...,\n",
              "         2.99821968e-01,  3.39820654e-01, -2.18657605e-02],\n",
              "       [-3.20875816e+00, -2.76891957e+00,  1.01391366e+00, ...,\n",
              "        -2.29964331e-01, -1.88787963e-01, -3.23964720e-01]])"
            ]
          },
          "metadata": {},
          "execution_count": 52
        }
      ]
    },
    {
      "cell_type": "code",
      "metadata": {
        "id": "a5uZV1CxAH2a"
      },
      "source": [
        "pca = PCA(n_components = 6)\n",
        "pca_values = pca.fit_transform(df_normal)"
      ],
      "execution_count": 53,
      "outputs": []
    },
    {
      "cell_type": "code",
      "metadata": {
        "colab": {
          "base_uri": "https://localhost:8080/"
        },
        "id": "AkKFpDr2AH0u",
        "outputId": "5b3be520-54d4-4616-c644-71519d49c28b"
      },
      "source": [
        "pca_values"
      ],
      "execution_count": 54,
      "outputs": [
        {
          "output_type": "execute_result",
          "data": {
            "text/plain": [
              "array([[ 3.31675081, -1.44346263, -0.16573904, -0.21563119,  0.69304284,\n",
              "        -0.22388013],\n",
              "       [ 2.20946492,  0.33339289, -2.02645737, -0.29135832, -0.25765463,\n",
              "        -0.92712024],\n",
              "       [ 2.51674015, -1.0311513 ,  0.98281867,  0.72490231, -0.25103312,\n",
              "         0.54927605],\n",
              "       ...,\n",
              "       [-2.67783946, -2.76089913, -0.94094188,  0.31203475,  1.271355  ,\n",
              "         0.27306792],\n",
              "       [-2.38701709, -2.29734668, -0.5506962 , -0.68828455,  0.81395522,\n",
              "         1.17878298],\n",
              "       [-3.20875816, -2.76891957,  1.01391366,  0.59690319, -0.89519259,\n",
              "         0.29609218]])"
            ]
          },
          "metadata": {},
          "execution_count": 54
        }
      ]
    },
    {
      "cell_type": "code",
      "metadata": {
        "colab": {
          "base_uri": "https://localhost:8080/"
        },
        "id": "TrYr7vKFAHw5",
        "outputId": "e8c34e55-0055-4bc5-c7a8-2c53d7c69376"
      },
      "source": [
        "var = pca.explained_variance_ratio_\n",
        "var"
      ],
      "execution_count": 55,
      "outputs": [
        {
          "output_type": "execute_result",
          "data": {
            "text/plain": [
              "array([0.36198848, 0.1920749 , 0.11123631, 0.0706903 , 0.06563294,\n",
              "       0.04935823])"
            ]
          },
          "metadata": {},
          "execution_count": 55
        }
      ]
    },
    {
      "cell_type": "code",
      "metadata": {
        "colab": {
          "base_uri": "https://localhost:8080/"
        },
        "id": "ymFGNIO1AHvS",
        "outputId": "d7f2ab5c-09ff-4a67-8c1a-60fa0a208671"
      },
      "source": [
        "var1 = np.cumsum(np.round(var,decimals = 1)*100)\n",
        "var1"
      ],
      "execution_count": 56,
      "outputs": [
        {
          "output_type": "execute_result",
          "data": {
            "text/plain": [
              "array([40., 60., 70., 80., 90., 90.])"
            ]
          },
          "metadata": {},
          "execution_count": 56
        }
      ]
    },
    {
      "cell_type": "code",
      "metadata": {
        "colab": {
          "base_uri": "https://localhost:8080/"
        },
        "id": "ipsrgFvkFDDH",
        "outputId": "7192bac0-cccb-4130-bc92-d035fa74c1f4"
      },
      "source": [
        "pca.components_"
      ],
      "execution_count": 57,
      "outputs": [
        {
          "output_type": "execute_result",
          "data": {
            "text/plain": [
              "array([[ 0.1443294 , -0.24518758, -0.00205106, -0.23932041,  0.14199204,\n",
              "         0.39466085,  0.4229343 , -0.2985331 ,  0.31342949, -0.0886167 ,\n",
              "         0.29671456,  0.37616741,  0.28675223],\n",
              "       [-0.48365155, -0.22493093, -0.31606881,  0.0105905 , -0.299634  ,\n",
              "        -0.06503951,  0.00335981, -0.02877949, -0.03930172, -0.52999567,\n",
              "         0.27923515,  0.16449619, -0.36490283],\n",
              "       [-0.20738262,  0.08901289,  0.6262239 ,  0.61208035,  0.13075693,\n",
              "         0.14617896,  0.1506819 ,  0.17036816,  0.14945431, -0.13730621,\n",
              "         0.08522192,  0.16600459, -0.12674592],\n",
              "       [-0.0178563 ,  0.53689028, -0.21417556,  0.06085941, -0.35179658,\n",
              "         0.19806835,  0.15229479, -0.20330102,  0.39905653,  0.06592568,\n",
              "        -0.42777141,  0.18412074, -0.23207086],\n",
              "       [-0.26566365,  0.03521363, -0.14302547,  0.06610294,  0.72704851,\n",
              "        -0.14931841, -0.10902584, -0.50070298,  0.13685982, -0.07643678,\n",
              "        -0.17361452, -0.10116099, -0.1578688 ],\n",
              "       [-0.21353865, -0.53681385, -0.15447466,  0.10082451, -0.03814394,\n",
              "         0.0841223 ,  0.01892002,  0.25859401,  0.53379539,  0.41864414,\n",
              "        -0.10598274, -0.26585107, -0.11972557]])"
            ]
          },
          "metadata": {},
          "execution_count": 57
        }
      ]
    },
    {
      "cell_type": "code",
      "metadata": {
        "colab": {
          "base_uri": "https://localhost:8080/",
          "height": 283
        },
        "id": "sXi7SZqwFDBo",
        "outputId": "b8e57c1c-ba0c-4c8e-c8f3-60612cfce8ae"
      },
      "source": [
        "plt.plot(var1,color=\"red\")"
      ],
      "execution_count": 58,
      "outputs": [
        {
          "output_type": "execute_result",
          "data": {
            "text/plain": [
              "[<matplotlib.lines.Line2D at 0x7f5dde681250>]"
            ]
          },
          "metadata": {},
          "execution_count": 58
        },
        {
          "output_type": "display_data",
          "data": {
            "image/png": "[encoded data removed]",
            "text/plain": [
              "<Figure size 432x288 with 1 Axes>"
            ]
          },
          "metadata": {
            "needs_background": "light"
          }
        }
      ]
    },
    {
      "cell_type": "code",
      "metadata": {
        "colab": {
          "base_uri": "https://localhost:8080/"
        },
        "id": "kEm9eKcsFC-i",
        "outputId": "72cbfe0d-431c-41f8-c84c-7705489a65d0"
      },
      "source": [
        "pca_values[:,0:1]"
      ],
      "execution_count": 59,
      "outputs": [
        {
          "output_type": "execute_result",
          "data": {
            "text/plain": [
              "array([[ 3.31675081],\n",
              "       [ 2.20946492],\n",
              "       [ 2.51674015],\n",
              "       [ 3.75706561],\n",
              "       [ 1.00890849],\n",
              "       [ 3.05025392],\n",
              "       [ 2.44908967],\n",
              "       [ 2.05943687],\n",
              "       [ 2.5108743 ],\n",
              "       [ 2.75362819],\n",
              "       [ 3.47973668],\n",
              "       [ 1.7547529 ],\n",
              "       [ 2.11346234],\n",
              "       [ 3.45815682],\n",
              "       [ 4.31278391],\n",
              "       [ 2.3051882 ],\n",
              "       [ 2.17195527],\n",
              "       [ 1.89897118],\n",
              "       [ 3.54198508],\n",
              "       [ 2.0845222 ],\n",
              "       [ 3.12440254],\n",
              "       [ 1.08657007],\n",
              "       [ 2.53522408],\n",
              "       [ 1.64498834],\n",
              "       [ 1.76157587],\n",
              "       [ 0.9900791 ],\n",
              "       [ 1.77527763],\n",
              "       [ 1.23542396],\n",
              "       [ 2.18840633],\n",
              "       [ 2.25610898],\n",
              "       [ 2.50022003],\n",
              "       [ 2.67741105],\n",
              "       [ 1.62857912],\n",
              "       [ 1.90269086],\n",
              "       [ 1.41038853],\n",
              "       [ 1.90382623],\n",
              "       [ 1.38486223],\n",
              "       [ 1.12220741],\n",
              "       [ 1.5021945 ],\n",
              "       [ 2.52980109],\n",
              "       [ 2.58809543],\n",
              "       [ 0.66848199],\n",
              "       [ 3.07080699],\n",
              "       [ 0.46220914],\n",
              "       [ 2.10135193],\n",
              "       [ 1.13616618],\n",
              "       [ 2.72660096],\n",
              "       [ 2.82133927],\n",
              "       [ 2.00985085],\n",
              "       [ 2.7074913 ],\n",
              "       [ 3.21491747],\n",
              "       [ 2.85895983],\n",
              "       [ 3.50560436],\n",
              "       [ 2.22479138],\n",
              "       [ 2.14698782],\n",
              "       [ 2.46932948],\n",
              "       [ 2.74151791],\n",
              "       [ 2.17374092],\n",
              "       [ 3.13938015],\n",
              "       [-0.92858197],\n",
              "       [-1.54248014],\n",
              "       [-1.83624976],\n",
              "       [ 0.03060683],\n",
              "       [ 2.05026161],\n",
              "       [-0.60968083],\n",
              "       [ 0.90022784],\n",
              "       [ 2.24850719],\n",
              "       [ 0.18338403],\n",
              "       [-0.81280503],\n",
              "       [ 1.9756205 ],\n",
              "       [-1.57221622],\n",
              "       [ 1.65768181],\n",
              "       [-0.72537239],\n",
              "       [ 2.56222717],\n",
              "       [ 1.83256757],\n",
              "       [-0.8679929 ],\n",
              "       [ 0.3700144 ],\n",
              "       [-1.45737704],\n",
              "       [ 1.26293085],\n",
              "       [ 0.37615037],\n",
              "       [ 0.7620639 ],\n",
              "       [ 1.03457797],\n",
              "       [-0.49487676],\n",
              "       [-2.53897708],\n",
              "       [ 0.83532015],\n",
              "       [ 0.78790461],\n",
              "       [-0.80683216],\n",
              "       [-0.55804262],\n",
              "       [-1.11511104],\n",
              "       [-0.55572283],\n",
              "       [-1.34928528],\n",
              "       [-1.56448261],\n",
              "       [-1.93255561],\n",
              "       [ 0.74666594],\n",
              "       [ 0.95745536],\n",
              "       [ 2.54386518],\n",
              "       [-0.54395259],\n",
              "       [ 1.03104975],\n",
              "       [ 2.25190942],\n",
              "       [ 1.41021602],\n",
              "       [ 0.79771979],\n",
              "       [-0.54953173],\n",
              "       [-0.16117374],\n",
              "       [-0.65979494],\n",
              "       [ 0.39235441],\n",
              "       [-1.77249908],\n",
              "       [-0.36626736],\n",
              "       [-1.62067257],\n",
              "       [ 0.08253578],\n",
              "       [ 1.57827507],\n",
              "       [ 1.42056925],\n",
              "       [-0.27870275],\n",
              "       [-1.30314497],\n",
              "       [-0.45707187],\n",
              "       [-0.49418585],\n",
              "       [ 0.48207441],\n",
              "       [-0.25288888],\n",
              "       [-0.10722764],\n",
              "       [-2.4330126 ],\n",
              "       [-0.55108954],\n",
              "       [ 0.73962193],\n",
              "       [ 1.33632173],\n",
              "       [-1.177087  ],\n",
              "       [-0.46233501],\n",
              "       [ 0.97847408],\n",
              "       [-0.09680973],\n",
              "       [ 0.03848715],\n",
              "       [-1.5971585 ],\n",
              "       [-0.47956492],\n",
              "       [-1.79283347],\n",
              "       [-1.32710166],\n",
              "       [-2.38450083],\n",
              "       [-2.9369401 ],\n",
              "       [-2.14681113],\n",
              "       [-2.36986949],\n",
              "       [-3.06384157],\n",
              "       [-3.91575378],\n",
              "       [-3.93646339],\n",
              "       [-3.09427612],\n",
              "       [-2.37447163],\n",
              "       [-2.77881295],\n",
              "       [-2.28656128],\n",
              "       [-2.98563349],\n",
              "       [-2.3751947 ],\n",
              "       [-2.20986553],\n",
              "       [-2.625621  ],\n",
              "       [-4.28063878],\n",
              "       [-3.58264137],\n",
              "       [-2.80706372],\n",
              "       [-2.89965933],\n",
              "       [-2.32073698],\n",
              "       [-2.54983095],\n",
              "       [-1.81254128],\n",
              "       [-2.76014464],\n",
              "       [-2.7371505 ],\n",
              "       [-3.60486887],\n",
              "       [-2.889826  ],\n",
              "       [-3.39215608],\n",
              "       [-1.0481819 ],\n",
              "       [-1.60991228],\n",
              "       [-3.14313097],\n",
              "       [-2.2401569 ],\n",
              "       [-2.84767378],\n",
              "       [-2.59749706],\n",
              "       [-2.94929937],\n",
              "       [-3.53003227],\n",
              "       [-2.40611054],\n",
              "       [-2.92908473],\n",
              "       [-2.18141278],\n",
              "       [-2.38092779],\n",
              "       [-3.21161722],\n",
              "       [-3.67791872],\n",
              "       [-2.4655558 ],\n",
              "       [-3.37052415],\n",
              "       [-2.60195585],\n",
              "       [-2.67783946],\n",
              "       [-2.38701709],\n",
              "       [-3.20875816]])"
            ]
          },
          "metadata": {},
          "execution_count": 59
        }
      ]
    },
    {
      "cell_type": "code",
      "metadata": {
        "colab": {
          "base_uri": "https://localhost:8080/",
          "height": 283
        },
        "id": "3sXGj6YZFC8s",
        "outputId": "04e2d4a7-e9cd-4796-98da-28e21cc319e1"
      },
      "source": [
        "x = pca_values[:,0:1]\n",
        "y = pca_values[:,1:2]\n",
        "plt.scatter(x,y)"
      ],
      "execution_count": 60,
      "outputs": [
        {
          "output_type": "execute_result",
          "data": {
            "text/plain": [
              "<matplotlib.collections.PathCollection at 0x7f5dde63b510>"
            ]
          },
          "metadata": {},
          "execution_count": 60
        },
        {
          "output_type": "display_data",
          "data": {
            "image/png": "[encoded data removed]",
            "text/plain": [
              "<Figure size 432x288 with 1 Axes>"
            ]
          },
          "metadata": {
            "needs_background": "light"
          }
        }
      ]
    },
    {
      "cell_type": "code",
      "metadata": {
        "id": "4KQzJ2ZLIvDr"
      },
      "source": [
        "from sklearn.cluster import KMeans\n",
        "from sklearn.preprocessing import StandardScaler\n",
        "scaler = StandardScaler()\n",
        "scaled_df = scaler.fit_transform(df.iloc[:,1:])"
      ],
      "execution_count": 61,
      "outputs": []
    },
    {
      "cell_type": "code",
      "metadata": {
        "colab": {
          "base_uri": "https://localhost:8080/",
          "height": 295
        },
        "id": "DPs-54TmIvJ6",
        "outputId": "fdca5106-9559-4b12-d637-df434dad5295"
      },
      "source": [
        "from sklearn.cluster import KMeans\n",
        "wcss = []\n",
        "for i in range(1, 12):\n",
        "    kmeans = KMeans(n_clusters=i,random_state=0)\n",
        "    kmeans.fit(scaled_df)\n",
        "    wcss.append(kmeans.inertia_)\n",
        "    \n",
        "plt.plot(range(1,12), wcss)\n",
        "plt.title('Elbow Method')\n",
        "plt.xlabel('Number of clusters')\n",
        "plt.ylabel('WCSS')\n",
        "plt.show()"
      ],
      "execution_count": 62,
      "outputs": [
        {
          "output_type": "display_data",
          "data": {
            "image/png": "[encoded data removed]",
            "text/plain": [
              "<Figure size 432x288 with 1 Axes>"
            ]
          },
          "metadata": {
            "needs_background": "light"
          }
        }
      ]
    },
    {
      "cell_type": "code",
      "metadata": {
        "id": "BGv4PEFGIvQJ"
      },
      "source": [
        "from sklearn.cluster import DBSCAN\n",
        "from sklearn.preprocessing import StandardScaler\n",
        "import numpy as np\n",
        "import pandas as pd\n",
        "import matplotlib.pyplot as plt"
      ],
      "execution_count": 63,
      "outputs": []
    },
    {
      "cell_type": "code",
      "source": [
        "print(df.head())"
      ],
      "metadata": {
        "id": "5c9vpR8izcZo",
        "outputId": "da933812-397b-463a-a5d5-9e93483698e1",
        "colab": {
          "base_uri": "https://localhost:8080/"
        }
      },
      "execution_count": 64,
      "outputs": [
        {
          "output_type": "stream",
          "name": "stdout",
          "text": [
            "   Type  Alcohol  Malic   Ash  ...  Color   Hue  Dilution  Proline\n",
            "0     1    14.23   1.71  2.43  ...   5.64  1.04      3.92     1065\n",
            "1     1    13.20   1.78  2.14  ...   4.38  1.05      3.40     1050\n",
            "2     1    13.16   2.36  2.67  ...   5.68  1.03      3.17     1185\n",
            "3     1    14.37   1.95  2.50  ...   7.80  0.86      3.45     1480\n",
            "4     1    13.24   2.59  2.87  ...   4.32  1.04      2.93      735\n",
            "\n",
            "[5 rows x 14 columns]\n"
          ]
        }
      ]
    },
    {
      "cell_type": "code",
      "source": [
        "print(df.info())\n"
      ],
      "metadata": {
        "id": "i_hLa2Cx06Ad",
        "outputId": "501f7ed2-0f6c-466e-c4be-a5a82523ed73",
        "colab": {
          "base_uri": "https://localhost:8080/"
        }
      },
      "execution_count": 65,
      "outputs": [
        {
          "output_type": "stream",
          "name": "stdout",
          "text": [
            "<class 'pandas.core.frame.DataFrame'>\n",
            "RangeIndex: 178 entries, 0 to 177\n",
            "Data columns (total 14 columns):\n",
            " #   Column           Non-Null Count  Dtype  \n",
            "---  ------           --------------  -----  \n",
            " 0   Type             178 non-null    int64  \n",
            " 1   Alcohol          178 non-null    float64\n",
            " 2   Malic            178 non-null    float64\n",
            " 3   Ash              178 non-null    float64\n",
            " 4   Alcalinity       178 non-null    float64\n",
            " 5   Magnesium        178 non-null    int64  \n",
            " 6   Phenols          178 non-null    float64\n",
            " 7   Flavanoids       178 non-null    float64\n",
            " 8   Nonflavanoids    178 non-null    float64\n",
            " 9   Proanthocyanins  178 non-null    float64\n",
            " 10  Color            178 non-null    float64\n",
            " 11  Hue              178 non-null    float64\n",
            " 12  Dilution         178 non-null    float64\n",
            " 13  Proline          178 non-null    int64  \n",
            "dtypes: float64(11), int64(3)\n",
            "memory usage: 19.6 KB\n",
            "None\n"
          ]
        }
      ]
    },
    {
      "cell_type": "code",
      "source": [
        "array=df.values"
      ],
      "metadata": {
        "id": "d9n9RIEa1iq6"
      },
      "execution_count": 81,
      "outputs": []
    },
    {
      "cell_type": "code",
      "source": [
        "array\n"
      ],
      "metadata": {
        "id": "jUvSwqpe1nTT",
        "outputId": "2df02d18-4386-474e-a29a-cb88930b3a08",
        "colab": {
          "base_uri": "https://localhost:8080/"
        }
      },
      "execution_count": 82,
      "outputs": [
        {
          "output_type": "execute_result",
          "data": {
            "text/plain": [
              "array([[1.710e+00, 2.430e+00, 1.560e+01, ..., 1.040e+00, 3.920e+00,\n",
              "        1.065e+03],\n",
              "       [1.780e+00, 2.140e+00, 1.120e+01, ..., 1.050e+00, 3.400e+00,\n",
              "        1.050e+03],\n",
              "       [2.360e+00, 2.670e+00, 1.860e+01, ..., 1.030e+00, 3.170e+00,\n",
              "        1.185e+03],\n",
              "       ...,\n",
              "       [4.280e+00, 2.260e+00, 2.000e+01, ..., 5.900e-01, 1.560e+00,\n",
              "        8.350e+02],\n",
              "       [2.590e+00, 2.370e+00, 2.000e+01, ..., 6.000e-01, 1.620e+00,\n",
              "        8.400e+02],\n",
              "       [4.100e+00, 2.740e+00, 2.450e+01, ..., 6.100e-01, 1.600e+00,\n",
              "        5.600e+02]])"
            ]
          },
          "metadata": {},
          "execution_count": 82
        }
      ]
    },
    {
      "cell_type": "code",
      "source": [
        "stscaler = StandardScaler().fit(array)\n",
        "X = stscaler.transform(array)"
      ],
      "metadata": {
        "id": "YXJn0WJS5Mrm"
      },
      "execution_count": 69,
      "outputs": []
    },
    {
      "cell_type": "code",
      "source": [
        "X"
      ],
      "metadata": {
        "id": "3HzWw_RJ5M3V",
        "outputId": "1369820c-3510-41d1-c272-e8f496825e86",
        "colab": {
          "base_uri": "https://localhost:8080/"
        }
      },
      "execution_count": 70,
      "outputs": [
        {
          "output_type": "execute_result",
          "data": {
            "text/plain": [
              "array([[-0.5622498 ,  0.23205254, -1.16959318, ...,  0.36217728,\n",
              "         1.84791957,  1.01300893],\n",
              "       [-0.49941338, -0.82799632, -2.49084714, ...,  0.40605066,\n",
              "         1.1134493 ,  0.96524152],\n",
              "       [ 0.02123125,  1.10933436, -0.2687382 , ...,  0.31830389,\n",
              "         0.78858745,  1.39514818],\n",
              "       ...,\n",
              "       [ 1.74474449, -0.38935541,  0.15166079, ..., -1.61212515,\n",
              "        -1.48544548,  0.28057537],\n",
              "       [ 0.22769377,  0.01273209,  0.15166079, ..., -1.56825176,\n",
              "        -1.40069891,  0.29649784],\n",
              "       [ 1.58316512,  1.36520822,  1.50294326, ..., -1.52437837,\n",
              "        -1.42894777, -0.59516041]])"
            ]
          },
          "metadata": {},
          "execution_count": 70
        }
      ]
    },
    {
      "cell_type": "code",
      "source": [
        "dbscan = DBSCAN(eps=1, min_samples=3)\n",
        "dbscan.fit(X)"
      ],
      "metadata": {
        "id": "JHaq6bjl5NAJ",
        "outputId": "61a1c8c6-ff51-4f0b-8714-0ee4e4a1abcc",
        "colab": {
          "base_uri": "https://localhost:8080/"
        }
      },
      "execution_count": 83,
      "outputs": [
        {
          "output_type": "execute_result",
          "data": {
            "text/plain": [
              "DBSCAN(eps=1, min_samples=3)"
            ]
          },
          "metadata": {},
          "execution_count": 83
        }
      ]
    },
    {
      "cell_type": "code",
      "source": [
        "dbscan.labels_\n"
      ],
      "metadata": {
        "id": "fj2jGuB75NGw",
        "outputId": "00f964c2-a25f-4559-9f4a-6bd50aefdad0",
        "colab": {
          "base_uri": "https://localhost:8080/"
        }
      },
      "execution_count": 84,
      "outputs": [
        {
          "output_type": "execute_result",
          "data": {
            "text/plain": [
              "array([-1, -1, -1, -1, -1, -1, -1, -1, -1, -1, -1, -1, -1, -1, -1, -1, -1,\n",
              "       -1, -1, -1, -1, -1, -1, -1, -1, -1, -1, -1, -1, -1, -1, -1, -1, -1,\n",
              "       -1, -1, -1, -1, -1, -1, -1, -1, -1, -1, -1, -1, -1, -1, -1, -1, -1,\n",
              "       -1, -1, -1, -1, -1, -1, -1, -1, -1, -1, -1, -1, -1, -1, -1, -1, -1,\n",
              "       -1, -1, -1, -1, -1, -1, -1, -1, -1, -1, -1, -1, -1, -1, -1, -1, -1,\n",
              "       -1, -1, -1, -1, -1, -1, -1, -1, -1, -1, -1, -1, -1, -1, -1, -1, -1,\n",
              "       -1, -1, -1, -1, -1, -1, -1, -1, -1, -1, -1, -1, -1, -1, -1, -1, -1,\n",
              "       -1, -1, -1, -1, -1, -1, -1, -1, -1, -1, -1, -1, -1, -1, -1, -1, -1,\n",
              "       -1, -1, -1, -1, -1, -1, -1, -1, -1, -1, -1, -1, -1, -1, -1, -1, -1,\n",
              "       -1, -1, -1, -1, -1, -1, -1, -1, -1, -1, -1, -1, -1, -1, -1, -1, -1,\n",
              "       -1, -1, -1, -1, -1, -1, -1, -1])"
            ]
          },
          "metadata": {},
          "execution_count": 84
        }
      ]
    },
    {
      "cell_type": "code",
      "source": [
        "cl=pd.DataFrame(dbscan.labels_,columns=['cluster'])"
      ],
      "metadata": {
        "id": "6EbAkDQX5uGU"
      },
      "execution_count": 85,
      "outputs": []
    },
    {
      "cell_type": "code",
      "source": [
        "cl"
      ],
      "metadata": {
        "id": "NLXCYSOv6LGn",
        "outputId": "ba13189f-8973-4af1-86ec-72cacc127a18",
        "colab": {
          "base_uri": "https://localhost:8080/",
          "height": 423
        }
      },
      "execution_count": 86,
      "outputs": [
        {
          "output_type": "execute_result",
          "data": {
            "text/html": [
              "<div>\n",
              "<style scoped>\n",
              "    .dataframe tbody tr th:only-of-type {\n",
              "        vertical-align: middle;\n",
              "    }\n",
              "\n",
              "    .dataframe tbody tr th {\n",
              "        vertical-align: top;\n",
              "    }\n",
              "\n",
              "    .dataframe thead th {\n",
              "        text-align: right;\n",
              "    }\n",
              "</style>\n",
              "<table border=\"1\" class=\"dataframe\">\n",
              "  <thead>\n",
              "    <tr style=\"text-align: right;\">\n",
              "      <th></th>\n",
              "      <th>cluster</th>\n",
              "    </tr>\n",
              "  </thead>\n",
              "  <tbody>\n",
              "    <tr>\n",
              "      <th>0</th>\n",
              "      <td>-1</td>\n",
              "    </tr>\n",
              "    <tr>\n",
              "      <th>1</th>\n",
              "      <td>-1</td>\n",
              "    </tr>\n",
              "    <tr>\n",
              "      <th>2</th>\n",
              "      <td>-1</td>\n",
              "    </tr>\n",
              "    <tr>\n",
              "      <th>3</th>\n",
              "      <td>-1</td>\n",
              "    </tr>\n",
              "    <tr>\n",
              "      <th>4</th>\n",
              "      <td>-1</td>\n",
              "    </tr>\n",
              "    <tr>\n",
              "      <th>...</th>\n",
              "      <td>...</td>\n",
              "    </tr>\n",
              "    <tr>\n",
              "      <th>173</th>\n",
              "      <td>-1</td>\n",
              "    </tr>\n",
              "    <tr>\n",
              "      <th>174</th>\n",
              "      <td>-1</td>\n",
              "    </tr>\n",
              "    <tr>\n",
              "      <th>175</th>\n",
              "      <td>-1</td>\n",
              "    </tr>\n",
              "    <tr>\n",
              "      <th>176</th>\n",
              "      <td>-1</td>\n",
              "    </tr>\n",
              "    <tr>\n",
              "      <th>177</th>\n",
              "      <td>-1</td>\n",
              "    </tr>\n",
              "  </tbody>\n",
              "</table>\n",
              "<p>178 rows × 1 columns</p>\n",
              "</div>"
            ],
            "text/plain": [
              "     cluster\n",
              "0         -1\n",
              "1         -1\n",
              "2         -1\n",
              "3         -1\n",
              "4         -1\n",
              "..       ...\n",
              "173       -1\n",
              "174       -1\n",
              "175       -1\n",
              "176       -1\n",
              "177       -1\n",
              "\n",
              "[178 rows x 1 columns]"
            ]
          },
          "metadata": {},
          "execution_count": 86
        }
      ]
    },
    {
      "cell_type": "code",
      "source": [
        "pd.concat([df,cl],axis=1)"
      ],
      "metadata": {
        "id": "4awBqXjQ838F",
        "outputId": "4c4bd6d1-40b3-4314-8fbe-5caf489ff176",
        "colab": {
          "base_uri": "https://localhost:8080/",
          "height": 443
        }
      },
      "execution_count": 87,
      "outputs": [
        {
          "output_type": "execute_result",
          "data": {
            "text/html": [
              "<div>\n",
              "<style scoped>\n",
              "    .dataframe tbody tr th:only-of-type {\n",
              "        vertical-align: middle;\n",
              "    }\n",
              "\n",
              "    .dataframe tbody tr th {\n",
              "        vertical-align: top;\n",
              "    }\n",
              "\n",
              "    .dataframe thead th {\n",
              "        text-align: right;\n",
              "    }\n",
              "</style>\n",
              "<table border=\"1\" class=\"dataframe\">\n",
              "  <thead>\n",
              "    <tr style=\"text-align: right;\">\n",
              "      <th></th>\n",
              "      <th>Malic</th>\n",
              "      <th>Ash</th>\n",
              "      <th>Alcalinity</th>\n",
              "      <th>Magnesium</th>\n",
              "      <th>Phenols</th>\n",
              "      <th>Flavanoids</th>\n",
              "      <th>Nonflavanoids</th>\n",
              "      <th>Proanthocyanins</th>\n",
              "      <th>Color</th>\n",
              "      <th>Hue</th>\n",
              "      <th>Dilution</th>\n",
              "      <th>Proline</th>\n",
              "      <th>cluster</th>\n",
              "    </tr>\n",
              "  </thead>\n",
              "  <tbody>\n",
              "    <tr>\n",
              "      <th>0</th>\n",
              "      <td>1.71</td>\n",
              "      <td>2.43</td>\n",
              "      <td>15.6</td>\n",
              "      <td>127</td>\n",
              "      <td>2.80</td>\n",
              "      <td>3.06</td>\n",
              "      <td>0.28</td>\n",
              "      <td>2.29</td>\n",
              "      <td>5.64</td>\n",
              "      <td>1.04</td>\n",
              "      <td>3.92</td>\n",
              "      <td>1065</td>\n",
              "      <td>-1</td>\n",
              "    </tr>\n",
              "    <tr>\n",
              "      <th>1</th>\n",
              "      <td>1.78</td>\n",
              "      <td>2.14</td>\n",
              "      <td>11.2</td>\n",
              "      <td>100</td>\n",
              "      <td>2.65</td>\n",
              "      <td>2.76</td>\n",
              "      <td>0.26</td>\n",
              "      <td>1.28</td>\n",
              "      <td>4.38</td>\n",
              "      <td>1.05</td>\n",
              "      <td>3.40</td>\n",
              "      <td>1050</td>\n",
              "      <td>-1</td>\n",
              "    </tr>\n",
              "    <tr>\n",
              "      <th>2</th>\n",
              "      <td>2.36</td>\n",
              "      <td>2.67</td>\n",
              "      <td>18.6</td>\n",
              "      <td>101</td>\n",
              "      <td>2.80</td>\n",
              "      <td>3.24</td>\n",
              "      <td>0.30</td>\n",
              "      <td>2.81</td>\n",
              "      <td>5.68</td>\n",
              "      <td>1.03</td>\n",
              "      <td>3.17</td>\n",
              "      <td>1185</td>\n",
              "      <td>-1</td>\n",
              "    </tr>\n",
              "    <tr>\n",
              "      <th>3</th>\n",
              "      <td>1.95</td>\n",
              "      <td>2.50</td>\n",
              "      <td>16.8</td>\n",
              "      <td>113</td>\n",
              "      <td>3.85</td>\n",
              "      <td>3.49</td>\n",
              "      <td>0.24</td>\n",
              "      <td>2.18</td>\n",
              "      <td>7.80</td>\n",
              "      <td>0.86</td>\n",
              "      <td>3.45</td>\n",
              "      <td>1480</td>\n",
              "      <td>-1</td>\n",
              "    </tr>\n",
              "    <tr>\n",
              "      <th>4</th>\n",
              "      <td>2.59</td>\n",
              "      <td>2.87</td>\n",
              "      <td>21.0</td>\n",
              "      <td>118</td>\n",
              "      <td>2.80</td>\n",
              "      <td>2.69</td>\n",
              "      <td>0.39</td>\n",
              "      <td>1.82</td>\n",
              "      <td>4.32</td>\n",
              "      <td>1.04</td>\n",
              "      <td>2.93</td>\n",
              "      <td>735</td>\n",
              "      <td>-1</td>\n",
              "    </tr>\n",
              "    <tr>\n",
              "      <th>...</th>\n",
              "      <td>...</td>\n",
              "      <td>...</td>\n",
              "      <td>...</td>\n",
              "      <td>...</td>\n",
              "      <td>...</td>\n",
              "      <td>...</td>\n",
              "      <td>...</td>\n",
              "      <td>...</td>\n",
              "      <td>...</td>\n",
              "      <td>...</td>\n",
              "      <td>...</td>\n",
              "      <td>...</td>\n",
              "      <td>...</td>\n",
              "    </tr>\n",
              "    <tr>\n",
              "      <th>173</th>\n",
              "      <td>5.65</td>\n",
              "      <td>2.45</td>\n",
              "      <td>20.5</td>\n",
              "      <td>95</td>\n",
              "      <td>1.68</td>\n",
              "      <td>0.61</td>\n",
              "      <td>0.52</td>\n",
              "      <td>1.06</td>\n",
              "      <td>7.70</td>\n",
              "      <td>0.64</td>\n",
              "      <td>1.74</td>\n",
              "      <td>740</td>\n",
              "      <td>-1</td>\n",
              "    </tr>\n",
              "    <tr>\n",
              "      <th>174</th>\n",
              "      <td>3.91</td>\n",
              "      <td>2.48</td>\n",
              "      <td>23.0</td>\n",
              "      <td>102</td>\n",
              "      <td>1.80</td>\n",
              "      <td>0.75</td>\n",
              "      <td>0.43</td>\n",
              "      <td>1.41</td>\n",
              "      <td>7.30</td>\n",
              "      <td>0.70</td>\n",
              "      <td>1.56</td>\n",
              "      <td>750</td>\n",
              "      <td>-1</td>\n",
              "    </tr>\n",
              "    <tr>\n",
              "      <th>175</th>\n",
              "      <td>4.28</td>\n",
              "      <td>2.26</td>\n",
              "      <td>20.0</td>\n",
              "      <td>120</td>\n",
              "      <td>1.59</td>\n",
              "      <td>0.69</td>\n",
              "      <td>0.43</td>\n",
              "      <td>1.35</td>\n",
              "      <td>10.20</td>\n",
              "      <td>0.59</td>\n",
              "      <td>1.56</td>\n",
              "      <td>835</td>\n",
              "      <td>-1</td>\n",
              "    </tr>\n",
              "    <tr>\n",
              "      <th>176</th>\n",
              "      <td>2.59</td>\n",
              "      <td>2.37</td>\n",
              "      <td>20.0</td>\n",
              "      <td>120</td>\n",
              "      <td>1.65</td>\n",
              "      <td>0.68</td>\n",
              "      <td>0.53</td>\n",
              "      <td>1.46</td>\n",
              "      <td>9.30</td>\n",
              "      <td>0.60</td>\n",
              "      <td>1.62</td>\n",
              "      <td>840</td>\n",
              "      <td>-1</td>\n",
              "    </tr>\n",
              "    <tr>\n",
              "      <th>177</th>\n",
              "      <td>4.10</td>\n",
              "      <td>2.74</td>\n",
              "      <td>24.5</td>\n",
              "      <td>96</td>\n",
              "      <td>2.05</td>\n",
              "      <td>0.76</td>\n",
              "      <td>0.56</td>\n",
              "      <td>1.35</td>\n",
              "      <td>9.20</td>\n",
              "      <td>0.61</td>\n",
              "      <td>1.60</td>\n",
              "      <td>560</td>\n",
              "      <td>-1</td>\n",
              "    </tr>\n",
              "  </tbody>\n",
              "</table>\n",
              "<p>178 rows × 13 columns</p>\n",
              "</div>"
            ],
            "text/plain": [
              "     Malic   Ash  Alcalinity  Magnesium  ...   Hue  Dilution  Proline  cluster\n",
              "0     1.71  2.43        15.6        127  ...  1.04      3.92     1065       -1\n",
              "1     1.78  2.14        11.2        100  ...  1.05      3.40     1050       -1\n",
              "2     2.36  2.67        18.6        101  ...  1.03      3.17     1185       -1\n",
              "3     1.95  2.50        16.8        113  ...  0.86      3.45     1480       -1\n",
              "4     2.59  2.87        21.0        118  ...  1.04      2.93      735       -1\n",
              "..     ...   ...         ...        ...  ...   ...       ...      ...      ...\n",
              "173   5.65  2.45        20.5         95  ...  0.64      1.74      740       -1\n",
              "174   3.91  2.48        23.0        102  ...  0.70      1.56      750       -1\n",
              "175   4.28  2.26        20.0        120  ...  0.59      1.56      835       -1\n",
              "176   2.59  2.37        20.0        120  ...  0.60      1.62      840       -1\n",
              "177   4.10  2.74        24.5         96  ...  0.61      1.60      560       -1\n",
              "\n",
              "[178 rows x 13 columns]"
            ]
          },
          "metadata": {},
          "execution_count": 87
        }
      ]
    },
    {
      "cell_type": "code",
      "source": [
        "import scipy.cluster.hierarchy as sch\n",
        "from sklearn.cluster import AgglomerativeClustering\n",
        "import numpy as np\n",
        "import pandas as pd\n",
        "from matplotlib import pyplot as plt\n",
        "import seaborn as sn"
      ],
      "metadata": {
        "id": "1TN4AqMRGDqY"
      },
      "execution_count": 88,
      "outputs": []
    },
    {
      "cell_type": "code",
      "source": [
        "df.head()"
      ],
      "metadata": {
        "id": "S5p4BqkeGRql",
        "outputId": "62e57fb8-e4a4-4b8b-c3b9-001d2ecda8b3",
        "colab": {
          "base_uri": "https://localhost:8080/",
          "height": 226
        }
      },
      "execution_count": 89,
      "outputs": [
        {
          "output_type": "execute_result",
          "data": {
            "text/html": [
              "<div>\n",
              "<style scoped>\n",
              "    .dataframe tbody tr th:only-of-type {\n",
              "        vertical-align: middle;\n",
              "    }\n",
              "\n",
              "    .dataframe tbody tr th {\n",
              "        vertical-align: top;\n",
              "    }\n",
              "\n",
              "    .dataframe thead th {\n",
              "        text-align: right;\n",
              "    }\n",
              "</style>\n",
              "<table border=\"1\" class=\"dataframe\">\n",
              "  <thead>\n",
              "    <tr style=\"text-align: right;\">\n",
              "      <th></th>\n",
              "      <th>Malic</th>\n",
              "      <th>Ash</th>\n",
              "      <th>Alcalinity</th>\n",
              "      <th>Magnesium</th>\n",
              "      <th>Phenols</th>\n",
              "      <th>Flavanoids</th>\n",
              "      <th>Nonflavanoids</th>\n",
              "      <th>Proanthocyanins</th>\n",
              "      <th>Color</th>\n",
              "      <th>Hue</th>\n",
              "      <th>Dilution</th>\n",
              "      <th>Proline</th>\n",
              "    </tr>\n",
              "  </thead>\n",
              "  <tbody>\n",
              "    <tr>\n",
              "      <th>0</th>\n",
              "      <td>1.71</td>\n",
              "      <td>2.43</td>\n",
              "      <td>15.6</td>\n",
              "      <td>127</td>\n",
              "      <td>2.80</td>\n",
              "      <td>3.06</td>\n",
              "      <td>0.28</td>\n",
              "      <td>2.29</td>\n",
              "      <td>5.64</td>\n",
              "      <td>1.04</td>\n",
              "      <td>3.92</td>\n",
              "      <td>1065</td>\n",
              "    </tr>\n",
              "    <tr>\n",
              "      <th>1</th>\n",
              "      <td>1.78</td>\n",
              "      <td>2.14</td>\n",
              "      <td>11.2</td>\n",
              "      <td>100</td>\n",
              "      <td>2.65</td>\n",
              "      <td>2.76</td>\n",
              "      <td>0.26</td>\n",
              "      <td>1.28</td>\n",
              "      <td>4.38</td>\n",
              "      <td>1.05</td>\n",
              "      <td>3.40</td>\n",
              "      <td>1050</td>\n",
              "    </tr>\n",
              "    <tr>\n",
              "      <th>2</th>\n",
              "      <td>2.36</td>\n",
              "      <td>2.67</td>\n",
              "      <td>18.6</td>\n",
              "      <td>101</td>\n",
              "      <td>2.80</td>\n",
              "      <td>3.24</td>\n",
              "      <td>0.30</td>\n",
              "      <td>2.81</td>\n",
              "      <td>5.68</td>\n",
              "      <td>1.03</td>\n",
              "      <td>3.17</td>\n",
              "      <td>1185</td>\n",
              "    </tr>\n",
              "    <tr>\n",
              "      <th>3</th>\n",
              "      <td>1.95</td>\n",
              "      <td>2.50</td>\n",
              "      <td>16.8</td>\n",
              "      <td>113</td>\n",
              "      <td>3.85</td>\n",
              "      <td>3.49</td>\n",
              "      <td>0.24</td>\n",
              "      <td>2.18</td>\n",
              "      <td>7.80</td>\n",
              "      <td>0.86</td>\n",
              "      <td>3.45</td>\n",
              "      <td>1480</td>\n",
              "    </tr>\n",
              "    <tr>\n",
              "      <th>4</th>\n",
              "      <td>2.59</td>\n",
              "      <td>2.87</td>\n",
              "      <td>21.0</td>\n",
              "      <td>118</td>\n",
              "      <td>2.80</td>\n",
              "      <td>2.69</td>\n",
              "      <td>0.39</td>\n",
              "      <td>1.82</td>\n",
              "      <td>4.32</td>\n",
              "      <td>1.04</td>\n",
              "      <td>2.93</td>\n",
              "      <td>735</td>\n",
              "    </tr>\n",
              "  </tbody>\n",
              "</table>\n",
              "</div>"
            ],
            "text/plain": [
              "   Malic   Ash  Alcalinity  Magnesium  ...  Color   Hue  Dilution  Proline\n",
              "0   1.71  2.43        15.6        127  ...   5.64  1.04      3.92     1065\n",
              "1   1.78  2.14        11.2        100  ...   4.38  1.05      3.40     1050\n",
              "2   2.36  2.67        18.6        101  ...   5.68  1.03      3.17     1185\n",
              "3   1.95  2.50        16.8        113  ...   7.80  0.86      3.45     1480\n",
              "4   2.59  2.87        21.0        118  ...   4.32  1.04      2.93      735\n",
              "\n",
              "[5 rows x 12 columns]"
            ]
          },
          "metadata": {},
          "execution_count": 89
        }
      ]
    },
    {
      "cell_type": "code",
      "source": [
        "def norm_func(i):\n",
        "    x = (i-i.min())/(i.max()-i.min())\n",
        "    return (x)"
      ],
      "metadata": {
        "id": "oLqzC6GBGoA5"
      },
      "execution_count": 90,
      "outputs": []
    },
    {
      "cell_type": "code",
      "source": [
        "df_norm = norm_func(df.iloc[:,1:])"
      ],
      "metadata": {
        "id": "pk_mvMZYGuXA"
      },
      "execution_count": 92,
      "outputs": []
    },
    {
      "cell_type": "code",
      "source": [
        "dendrogram = sch.dendrogram(sch.linkage(df_norm, method='single'))"
      ],
      "metadata": {
        "id": "huwtMTwmHA7m",
        "outputId": "16636840-a8d0-467a-fbec-c4864eb627e0",
        "colab": {
          "base_uri": "https://localhost:8080/",
          "height": 265
        }
      },
      "execution_count": 93,
      "outputs": [
        {
          "output_type": "display_data",
          "data": {
            "image/png": "[encoded data removed]",
            "text/plain": [
              "<Figure size 432x288 with 1 Axes>"
            ]
          },
          "metadata": {
            "needs_background": "light"
          }
        }
      ]
    },
    {
      "cell_type": "code",
      "source": [
        "hc = AgglomerativeClustering(n_clusters=4, affinity = 'euclidean', linkage = 'single')"
      ],
      "metadata": {
        "id": "MKwtz6yLHJ0Y"
      },
      "execution_count": 94,
      "outputs": []
    },
    {
      "cell_type": "code",
      "source": [
        "y_hc = hc.fit_predict(df_norm)\n",
        "Clusters=pd.DataFrame(y_hc,columns=['Clusters'])"
      ],
      "metadata": {
        "id": "hT10Gb1kHPDa"
      },
      "execution_count": 95,
      "outputs": []
    },
    {
      "cell_type": "code",
      "source": [
        "Clusters\n"
      ],
      "metadata": {
        "id": "VmvZhwliHoC7",
        "outputId": "e6c6790b-9a7f-4ac2-f3cf-26378301b5cb",
        "colab": {
          "base_uri": "https://localhost:8080/",
          "height": 423
        }
      },
      "execution_count": 96,
      "outputs": [
        {
          "output_type": "execute_result",
          "data": {
            "text/html": [
              "<div>\n",
              "<style scoped>\n",
              "    .dataframe tbody tr th:only-of-type {\n",
              "        vertical-align: middle;\n",
              "    }\n",
              "\n",
              "    .dataframe tbody tr th {\n",
              "        vertical-align: top;\n",
              "    }\n",
              "\n",
              "    .dataframe thead th {\n",
              "        text-align: right;\n",
              "    }\n",
              "</style>\n",
              "<table border=\"1\" class=\"dataframe\">\n",
              "  <thead>\n",
              "    <tr style=\"text-align: right;\">\n",
              "      <th></th>\n",
              "      <th>Clusters</th>\n",
              "    </tr>\n",
              "  </thead>\n",
              "  <tbody>\n",
              "    <tr>\n",
              "      <th>0</th>\n",
              "      <td>0</td>\n",
              "    </tr>\n",
              "    <tr>\n",
              "      <th>1</th>\n",
              "      <td>0</td>\n",
              "    </tr>\n",
              "    <tr>\n",
              "      <th>2</th>\n",
              "      <td>0</td>\n",
              "    </tr>\n",
              "    <tr>\n",
              "      <th>3</th>\n",
              "      <td>0</td>\n",
              "    </tr>\n",
              "    <tr>\n",
              "      <th>4</th>\n",
              "      <td>0</td>\n",
              "    </tr>\n",
              "    <tr>\n",
              "      <th>...</th>\n",
              "      <td>...</td>\n",
              "    </tr>\n",
              "    <tr>\n",
              "      <th>173</th>\n",
              "      <td>0</td>\n",
              "    </tr>\n",
              "    <tr>\n",
              "      <th>174</th>\n",
              "      <td>0</td>\n",
              "    </tr>\n",
              "    <tr>\n",
              "      <th>175</th>\n",
              "      <td>0</td>\n",
              "    </tr>\n",
              "    <tr>\n",
              "      <th>176</th>\n",
              "      <td>0</td>\n",
              "    </tr>\n",
              "    <tr>\n",
              "      <th>177</th>\n",
              "      <td>0</td>\n",
              "    </tr>\n",
              "  </tbody>\n",
              "</table>\n",
              "<p>178 rows × 1 columns</p>\n",
              "</div>"
            ],
            "text/plain": [
              "     Clusters\n",
              "0           0\n",
              "1           0\n",
              "2           0\n",
              "3           0\n",
              "4           0\n",
              "..        ...\n",
              "173         0\n",
              "174         0\n",
              "175         0\n",
              "176         0\n",
              "177         0\n",
              "\n",
              "[178 rows x 1 columns]"
            ]
          },
          "metadata": {},
          "execution_count": 96
        }
      ]
    },
    {
      "cell_type": "code",
      "source": [
        "df['h_clusterid'] = Clusters"
      ],
      "metadata": {
        "id": "VoHzFNibHpya"
      },
      "execution_count": 97,
      "outputs": []
    },
    {
      "cell_type": "code",
      "source": [
        "df"
      ],
      "metadata": {
        "id": "sIlLsMVZH6uX",
        "outputId": "7d41eb59-40f5-43a7-b8ba-e154fc857f4a",
        "colab": {
          "base_uri": "https://localhost:8080/",
          "height": 443
        }
      },
      "execution_count": 98,
      "outputs": [
        {
          "output_type": "execute_result",
          "data": {
            "text/html": [
              "<div>\n",
              "<style scoped>\n",
              "    .dataframe tbody tr th:only-of-type {\n",
              "        vertical-align: middle;\n",
              "    }\n",
              "\n",
              "    .dataframe tbody tr th {\n",
              "        vertical-align: top;\n",
              "    }\n",
              "\n",
              "    .dataframe thead th {\n",
              "        text-align: right;\n",
              "    }\n",
              "</style>\n",
              "<table border=\"1\" class=\"dataframe\">\n",
              "  <thead>\n",
              "    <tr style=\"text-align: right;\">\n",
              "      <th></th>\n",
              "      <th>Malic</th>\n",
              "      <th>Ash</th>\n",
              "      <th>Alcalinity</th>\n",
              "      <th>Magnesium</th>\n",
              "      <th>Phenols</th>\n",
              "      <th>Flavanoids</th>\n",
              "      <th>Nonflavanoids</th>\n",
              "      <th>Proanthocyanins</th>\n",
              "      <th>Color</th>\n",
              "      <th>Hue</th>\n",
              "      <th>Dilution</th>\n",
              "      <th>Proline</th>\n",
              "      <th>h_clusterid</th>\n",
              "    </tr>\n",
              "  </thead>\n",
              "  <tbody>\n",
              "    <tr>\n",
              "      <th>0</th>\n",
              "      <td>1.71</td>\n",
              "      <td>2.43</td>\n",
              "      <td>15.6</td>\n",
              "      <td>127</td>\n",
              "      <td>2.80</td>\n",
              "      <td>3.06</td>\n",
              "      <td>0.28</td>\n",
              "      <td>2.29</td>\n",
              "      <td>5.64</td>\n",
              "      <td>1.04</td>\n",
              "      <td>3.92</td>\n",
              "      <td>1065</td>\n",
              "      <td>0</td>\n",
              "    </tr>\n",
              "    <tr>\n",
              "      <th>1</th>\n",
              "      <td>1.78</td>\n",
              "      <td>2.14</td>\n",
              "      <td>11.2</td>\n",
              "      <td>100</td>\n",
              "      <td>2.65</td>\n",
              "      <td>2.76</td>\n",
              "      <td>0.26</td>\n",
              "      <td>1.28</td>\n",
              "      <td>4.38</td>\n",
              "      <td>1.05</td>\n",
              "      <td>3.40</td>\n",
              "      <td>1050</td>\n",
              "      <td>0</td>\n",
              "    </tr>\n",
              "    <tr>\n",
              "      <th>2</th>\n",
              "      <td>2.36</td>\n",
              "      <td>2.67</td>\n",
              "      <td>18.6</td>\n",
              "      <td>101</td>\n",
              "      <td>2.80</td>\n",
              "      <td>3.24</td>\n",
              "      <td>0.30</td>\n",
              "      <td>2.81</td>\n",
              "      <td>5.68</td>\n",
              "      <td>1.03</td>\n",
              "      <td>3.17</td>\n",
              "      <td>1185</td>\n",
              "      <td>0</td>\n",
              "    </tr>\n",
              "    <tr>\n",
              "      <th>3</th>\n",
              "      <td>1.95</td>\n",
              "      <td>2.50</td>\n",
              "      <td>16.8</td>\n",
              "      <td>113</td>\n",
              "      <td>3.85</td>\n",
              "      <td>3.49</td>\n",
              "      <td>0.24</td>\n",
              "      <td>2.18</td>\n",
              "      <td>7.80</td>\n",
              "      <td>0.86</td>\n",
              "      <td>3.45</td>\n",
              "      <td>1480</td>\n",
              "      <td>0</td>\n",
              "    </tr>\n",
              "    <tr>\n",
              "      <th>4</th>\n",
              "      <td>2.59</td>\n",
              "      <td>2.87</td>\n",
              "      <td>21.0</td>\n",
              "      <td>118</td>\n",
              "      <td>2.80</td>\n",
              "      <td>2.69</td>\n",
              "      <td>0.39</td>\n",
              "      <td>1.82</td>\n",
              "      <td>4.32</td>\n",
              "      <td>1.04</td>\n",
              "      <td>2.93</td>\n",
              "      <td>735</td>\n",
              "      <td>0</td>\n",
              "    </tr>\n",
              "    <tr>\n",
              "      <th>...</th>\n",
              "      <td>...</td>\n",
              "      <td>...</td>\n",
              "      <td>...</td>\n",
              "      <td>...</td>\n",
              "      <td>...</td>\n",
              "      <td>...</td>\n",
              "      <td>...</td>\n",
              "      <td>...</td>\n",
              "      <td>...</td>\n",
              "      <td>...</td>\n",
              "      <td>...</td>\n",
              "      <td>...</td>\n",
              "      <td>...</td>\n",
              "    </tr>\n",
              "    <tr>\n",
              "      <th>173</th>\n",
              "      <td>5.65</td>\n",
              "      <td>2.45</td>\n",
              "      <td>20.5</td>\n",
              "      <td>95</td>\n",
              "      <td>1.68</td>\n",
              "      <td>0.61</td>\n",
              "      <td>0.52</td>\n",
              "      <td>1.06</td>\n",
              "      <td>7.70</td>\n",
              "      <td>0.64</td>\n",
              "      <td>1.74</td>\n",
              "      <td>740</td>\n",
              "      <td>0</td>\n",
              "    </tr>\n",
              "    <tr>\n",
              "      <th>174</th>\n",
              "      <td>3.91</td>\n",
              "      <td>2.48</td>\n",
              "      <td>23.0</td>\n",
              "      <td>102</td>\n",
              "      <td>1.80</td>\n",
              "      <td>0.75</td>\n",
              "      <td>0.43</td>\n",
              "      <td>1.41</td>\n",
              "      <td>7.30</td>\n",
              "      <td>0.70</td>\n",
              "      <td>1.56</td>\n",
              "      <td>750</td>\n",
              "      <td>0</td>\n",
              "    </tr>\n",
              "    <tr>\n",
              "      <th>175</th>\n",
              "      <td>4.28</td>\n",
              "      <td>2.26</td>\n",
              "      <td>20.0</td>\n",
              "      <td>120</td>\n",
              "      <td>1.59</td>\n",
              "      <td>0.69</td>\n",
              "      <td>0.43</td>\n",
              "      <td>1.35</td>\n",
              "      <td>10.20</td>\n",
              "      <td>0.59</td>\n",
              "      <td>1.56</td>\n",
              "      <td>835</td>\n",
              "      <td>0</td>\n",
              "    </tr>\n",
              "    <tr>\n",
              "      <th>176</th>\n",
              "      <td>2.59</td>\n",
              "      <td>2.37</td>\n",
              "      <td>20.0</td>\n",
              "      <td>120</td>\n",
              "      <td>1.65</td>\n",
              "      <td>0.68</td>\n",
              "      <td>0.53</td>\n",
              "      <td>1.46</td>\n",
              "      <td>9.30</td>\n",
              "      <td>0.60</td>\n",
              "      <td>1.62</td>\n",
              "      <td>840</td>\n",
              "      <td>0</td>\n",
              "    </tr>\n",
              "    <tr>\n",
              "      <th>177</th>\n",
              "      <td>4.10</td>\n",
              "      <td>2.74</td>\n",
              "      <td>24.5</td>\n",
              "      <td>96</td>\n",
              "      <td>2.05</td>\n",
              "      <td>0.76</td>\n",
              "      <td>0.56</td>\n",
              "      <td>1.35</td>\n",
              "      <td>9.20</td>\n",
              "      <td>0.61</td>\n",
              "      <td>1.60</td>\n",
              "      <td>560</td>\n",
              "      <td>0</td>\n",
              "    </tr>\n",
              "  </tbody>\n",
              "</table>\n",
              "<p>178 rows × 13 columns</p>\n",
              "</div>"
            ],
            "text/plain": [
              "     Malic   Ash  Alcalinity  Magnesium  ...   Hue  Dilution  Proline  h_clusterid\n",
              "0     1.71  2.43        15.6        127  ...  1.04      3.92     1065            0\n",
              "1     1.78  2.14        11.2        100  ...  1.05      3.40     1050            0\n",
              "2     2.36  2.67        18.6        101  ...  1.03      3.17     1185            0\n",
              "3     1.95  2.50        16.8        113  ...  0.86      3.45     1480            0\n",
              "4     2.59  2.87        21.0        118  ...  1.04      2.93      735            0\n",
              "..     ...   ...         ...        ...  ...   ...       ...      ...          ...\n",
              "173   5.65  2.45        20.5         95  ...  0.64      1.74      740            0\n",
              "174   3.91  2.48        23.0        102  ...  0.70      1.56      750            0\n",
              "175   4.28  2.26        20.0        120  ...  0.59      1.56      835            0\n",
              "176   2.59  2.37        20.0        120  ...  0.60      1.62      840            0\n",
              "177   4.10  2.74        24.5         96  ...  0.61      1.60      560            0\n",
              "\n",
              "[178 rows x 13 columns]"
            ]
          },
          "metadata": {},
          "execution_count": 98
        }
      ]
    },
    {
      "cell_type": "code",
      "source": [
        "df.groupby('h_clusterid').agg(['mean']).reset_index()"
      ],
      "metadata": {
        "id": "2r7DwVUcIBpg",
        "outputId": "41e30c3d-fa2b-4d98-8bb2-79ee5da0a941",
        "colab": {
          "base_uri": "https://localhost:8080/",
          "height": 226
        }
      },
      "execution_count": 99,
      "outputs": [
        {
          "output_type": "execute_result",
          "data": {
            "text/html": [
              "<div>\n",
              "<style scoped>\n",
              "    .dataframe tbody tr th:only-of-type {\n",
              "        vertical-align: middle;\n",
              "    }\n",
              "\n",
              "    .dataframe tbody tr th {\n",
              "        vertical-align: top;\n",
              "    }\n",
              "\n",
              "    .dataframe thead tr th {\n",
              "        text-align: left;\n",
              "    }\n",
              "</style>\n",
              "<table border=\"1\" class=\"dataframe\">\n",
              "  <thead>\n",
              "    <tr>\n",
              "      <th></th>\n",
              "      <th>h_clusterid</th>\n",
              "      <th>Malic</th>\n",
              "      <th>Ash</th>\n",
              "      <th>Alcalinity</th>\n",
              "      <th>Magnesium</th>\n",
              "      <th>Phenols</th>\n",
              "      <th>Flavanoids</th>\n",
              "      <th>Nonflavanoids</th>\n",
              "      <th>Proanthocyanins</th>\n",
              "      <th>Color</th>\n",
              "      <th>Hue</th>\n",
              "      <th>Dilution</th>\n",
              "      <th>Proline</th>\n",
              "    </tr>\n",
              "    <tr>\n",
              "      <th></th>\n",
              "      <th></th>\n",
              "      <th>mean</th>\n",
              "      <th>mean</th>\n",
              "      <th>mean</th>\n",
              "      <th>mean</th>\n",
              "      <th>mean</th>\n",
              "      <th>mean</th>\n",
              "      <th>mean</th>\n",
              "      <th>mean</th>\n",
              "      <th>mean</th>\n",
              "      <th>mean</th>\n",
              "      <th>mean</th>\n",
              "      <th>mean</th>\n",
              "    </tr>\n",
              "  </thead>\n",
              "  <tbody>\n",
              "    <tr>\n",
              "      <th>0</th>\n",
              "      <td>0</td>\n",
              "      <td>2.360983</td>\n",
              "      <td>2.367110</td>\n",
              "      <td>19.427746</td>\n",
              "      <td>98.537572</td>\n",
              "      <td>2.287861</td>\n",
              "      <td>2.010636</td>\n",
              "      <td>0.363699</td>\n",
              "      <td>1.565376</td>\n",
              "      <td>5.099075</td>\n",
              "      <td>0.951942</td>\n",
              "      <td>2.599306</td>\n",
              "      <td>746.196532</td>\n",
              "    </tr>\n",
              "    <tr>\n",
              "      <th>1</th>\n",
              "      <td>1</td>\n",
              "      <td>1.233333</td>\n",
              "      <td>1.966667</td>\n",
              "      <td>16.866667</td>\n",
              "      <td>149.666667</td>\n",
              "      <td>2.083333</td>\n",
              "      <td>1.800000</td>\n",
              "      <td>0.270000</td>\n",
              "      <td>2.846667</td>\n",
              "      <td>2.950000</td>\n",
              "      <td>1.166667</td>\n",
              "      <td>2.670000</td>\n",
              "      <td>801.666667</td>\n",
              "    </tr>\n",
              "    <tr>\n",
              "      <th>2</th>\n",
              "      <td>2</td>\n",
              "      <td>2.050000</td>\n",
              "      <td>3.230000</td>\n",
              "      <td>28.500000</td>\n",
              "      <td>119.000000</td>\n",
              "      <td>3.180000</td>\n",
              "      <td>5.080000</td>\n",
              "      <td>0.470000</td>\n",
              "      <td>1.870000</td>\n",
              "      <td>6.000000</td>\n",
              "      <td>0.930000</td>\n",
              "      <td>3.690000</td>\n",
              "      <td>465.000000</td>\n",
              "    </tr>\n",
              "    <tr>\n",
              "      <th>3</th>\n",
              "      <td>3</td>\n",
              "      <td>1.670000</td>\n",
              "      <td>2.600000</td>\n",
              "      <td>30.000000</td>\n",
              "      <td>139.000000</td>\n",
              "      <td>3.300000</td>\n",
              "      <td>2.890000</td>\n",
              "      <td>0.210000</td>\n",
              "      <td>1.960000</td>\n",
              "      <td>3.350000</td>\n",
              "      <td>1.310000</td>\n",
              "      <td>3.500000</td>\n",
              "      <td>985.000000</td>\n",
              "    </tr>\n",
              "  </tbody>\n",
              "</table>\n",
              "</div>"
            ],
            "text/plain": [
              "  h_clusterid     Malic       Ash  ...       Hue  Dilution     Proline\n",
              "                   mean      mean  ...      mean      mean        mean\n",
              "0           0  2.360983  2.367110  ...  0.951942  2.599306  746.196532\n",
              "1           1  1.233333  1.966667  ...  1.166667  2.670000  801.666667\n",
              "2           2  2.050000  3.230000  ...  0.930000  3.690000  465.000000\n",
              "3           3  1.670000  2.600000  ...  1.310000  3.500000  985.000000\n",
              "\n",
              "[4 rows x 13 columns]"
            ]
          },
          "metadata": {},
          "execution_count": 99
        }
      ]
    }
  ]
}